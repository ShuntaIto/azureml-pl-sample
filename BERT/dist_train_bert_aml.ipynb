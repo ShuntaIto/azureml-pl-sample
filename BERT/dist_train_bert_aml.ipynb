{
 "cells": [
  {
   "cell_type": "code",
   "execution_count": null,
   "metadata": {},
   "outputs": [],
   "source": [
    "import os\n",
    "from azureml.core import Workspace\n",
    "from azureml.core import Environment\n",
    "from azureml.core import ScriptRunConfig, Experiment\n",
    "from azureml.widgets import RunDetails\n",
    "from azureml.core import Model\n",
    "from azureml.core.runconfig import PyTorchConfiguration\n",
    "from azureml.core.runconfig import MpiConfiguration"
   ]
  },
  {
   "cell_type": "code",
   "execution_count": null,
   "metadata": {},
   "outputs": [],
   "source": [
    "# AMLワークスペースへの接続\n",
    "ws = Workspace.from_config()"
   ]
  },
  {
   "cell_type": "code",
   "execution_count": null,
   "metadata": {},
   "outputs": [],
   "source": [
    "# training script\n",
    "source_dir = \"train\"\n",
    "script_name = \"dist_train_bert.py\"\n",
    "\n",
    "# environment file\n",
    "environment_file = os.path.join(\"train\", \"dist_train_bert_env.yml\")\n",
    "\n",
    "# azure ml settings\n",
    "environment_name = \"pl-env-pt160-lang\"\n",
    "experiment_name = \"dist-bert-livedoor\"\n",
    "compute_name = \"gpu-cluster01\""
   ]
  },
  {
   "cell_type": "code",
   "execution_count": null,
   "metadata": {},
   "outputs": [],
   "source": [
    "# 学習環境作成、初回のみ長時間\n",
    "env = Environment.from_conda_specification(environment_name, environment_file)\n",
    "\n",
    "env.docker.enabled = True\n",
    "env.docker.base_image = (\n",
    "    \"mcr.microsoft.com/azureml/openmpi3.1.2-cuda10.2-cudnn8-ubuntu18.04\"\n",
    ")"
   ]
  },
  {
   "cell_type": "code",
   "execution_count": null,
   "metadata": {},
   "outputs": [],
   "source": [
    "# 学習設定\n",
    "cluster = ws.compute_targets[compute_name]\n",
    "\n",
    "#dist_config = PyTorchConfiguration(node_count=2)\n",
    "dist_config = MpiConfiguration(node_count=2)\n",
    "\n",
    "src = ScriptRunConfig(\n",
    "    source_directory=source_dir,\n",
    "    script=script_name,\n",
    "    arguments=[\n",
    "        \"--batch_size\", 128,\n",
    "        \"--max_epochs\", 10,\n",
    "        \"--gpus\", 1,\n",
    "        \"--accelerator\", \"ddp\",\n",
    "        \"--num_nodes\", 2,],\n",
    "    compute_target=cluster,\n",
    "    environment=env,\n",
    "    distributed_job_config=dist_config,\n",
    ")"
   ]
  },
  {
   "cell_type": "code",
   "execution_count": null,
   "metadata": {},
   "outputs": [],
   "source": [
    "# 実行\n",
    "run = Experiment(ws, experiment_name).submit(src)\n",
    "run.wait_for_completion(show_output=True)"
   ]
  },
  {
   "cell_type": "code",
   "execution_count": null,
   "metadata": {},
   "outputs": [],
   "source": [
    "# モデル登録\n",
    "run.register_model(\n",
    "    model_name=\"bert-livedoor-model\",\n",
    "    model_path=os.path.join('outputs', 'model.onnx'),\n",
    "    model_framework=Model.Framework.ONNX,\n",
    ")"
   ]
  },
  {
   "cell_type": "code",
   "execution_count": null,
   "metadata": {},
   "outputs": [],
   "source": []
  }
 ],
 "metadata": {
  "kernelspec": {
   "name": "py38-pt180",
   "display_name": "Python 3.8.8 64-bit ('py38-pt180': conda)"
  },
  "language_info": {
   "codemirror_mode": {
    "name": "ipython",
    "version": 3
   },
   "file_extension": ".py",
   "mimetype": "text/x-python",
   "name": "python",
   "nbconvert_exporter": "python",
   "pygments_lexer": "ipython3",
   "version": "3.8.8-final"
  }
 },
 "nbformat": 4,
 "nbformat_minor": 4
}