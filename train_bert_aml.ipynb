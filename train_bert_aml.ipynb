{
 "cells": [
  {
   "cell_type": "code",
   "execution_count": null,
   "metadata": {},
   "outputs": [],
   "source": [
    "import os\n",
    "from azureml.core import Workspace\n",
    "from azureml.core import Environment\n",
    "from azureml.core import ScriptRunConfig, Experiment\n",
    "from azureml.widgets import RunDetails\n",
    "from azureml.core import Model"
   ]
  },
  {
   "cell_type": "code",
   "execution_count": null,
   "metadata": {},
   "outputs": [],
   "source": [
    "# AMLワークスペースへの接続\n",
    "ws = Workspace.from_config()"
   ]
  },
  {
   "cell_type": "code",
   "execution_count": null,
   "metadata": {},
   "outputs": [],
   "source": [
    "# training script\n",
    "source_dir = \"train/bert\"\n",
    "script_name = \"train_bert.py\"\n",
    "\n",
    "# environment file\n",
    "environment_file = os.path.join(\"train\", \"bert\", \"train_bert_env.yml\")\n",
    "\n",
    "# azure ml settings\n",
    "environment_name = \"pl-env-lang\"\n",
    "experiment_name = \"bert-livedoor\"\n",
    "compute_name = \"gpu-instance01\""
   ]
  },
  {
   "cell_type": "code",
   "execution_count": null,
   "metadata": {},
   "outputs": [],
   "source": [
    "# 学習環境作成、初回のみ長時間\n",
    "env = Environment.from_conda_specification(environment_name, environment_file)\n",
    "\n",
    "env.docker.enabled = True\n",
    "env.docker.base_image = (\n",
    "    \"mcr.microsoft.com/azureml/openmpi4.1.0-cuda11.0.3-cudnn8-ubuntu18.04\"\n",
    ")"
   ]
  },
  {
   "cell_type": "code",
   "execution_count": null,
   "metadata": {},
   "outputs": [],
   "source": [
    "# 学習設定\n",
    "src = ScriptRunConfig(\n",
    "    source_directory=source_dir,\n",
    "    script=script_name,\n",
    "    arguments=[\"--batch_size\", 128, \"--max_epochs\", 10, \"--gpus\", 1],\n",
    "    compute_target=compute_name,\n",
    "    environment=env,\n",
    ")"
   ]
  },
  {
   "cell_type": "code",
   "execution_count": null,
   "metadata": {
    "tags": [
     "outputPrepend"
    ]
   },
   "outputs": [],
   "source": [
    "# 実行\n",
    "run = Experiment(ws, experiment_name).submit(src)\n",
    "run.wait_for_completion(show_output=True)"
   ]
  },
  {
   "cell_type": "code",
   "execution_count": null,
   "metadata": {},
   "outputs": [],
   "source": [
    "# モデル登録\n",
    "run.register_model(\n",
    "    model_name=\"bert-livedoor-model\",\n",
    "    model_path=os.path.join('outputs', 'model.onnx'),\n",
    "    model_framework=Model.Framework.ONNX,\n",
    ")"
   ]
  },
  {
   "cell_type": "code",
   "execution_count": null,
   "metadata": {},
   "outputs": [],
   "source": []
  }
 ],
 "metadata": {
  "kernelspec": {
   "name": "python388jvsc74a57bd0955a9e46ddbd40183737b0407937cba8340df4839a34630809b37eda4d8ebe94",
   "display_name": "Python 3.8.8 64-bit ('py38-pt180': conda)"
  },
  "language_info": {
   "codemirror_mode": {
    "name": "ipython",
    "version": 3
   },
   "file_extension": ".py",
   "mimetype": "text/x-python",
   "name": "python",
   "nbconvert_exporter": "python",
   "pygments_lexer": "ipython3",
   "version": "3.8.8-final"
  }
 },
 "nbformat": 4,
 "nbformat_minor": 4
}